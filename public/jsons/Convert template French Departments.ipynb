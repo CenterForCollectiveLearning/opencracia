{
 "cells": [
  {
   "cell_type": "code",
   "execution_count": 1,
   "metadata": {},
   "outputs": [],
   "source": [
    "import pandas as pd\n",
    "# french_departments = pd.read_json(\"french_department.json\", orient='records')"
   ]
  },
  {
   "cell_type": "code",
   "execution_count": 2,
   "metadata": {},
   "outputs": [],
   "source": [
    "import json\n",
    "f = open('french_department.json')\n",
    "data = json.load(f)"
   ]
  },
  {
   "cell_type": "code",
   "execution_count": 36,
   "metadata": {},
   "outputs": [],
   "source": [
    "new_structure_json = {}\n",
    "new_structure_json['type'] = \"Topology\"\n",
    "new_structure_json['arcs'] = []\n",
    "\n",
    "\n",
    "new_structure = []\n",
    "for each in data['features']:\n",
    "    id_ = each['properties']['code']\n",
    "    name_ = each['properties']['nom']\n",
    "\n",
    "    std_polygon_ = []\n",
    "    for row in each['geometry']['coordinates']:\n",
    "        while len(row) < 2:\n",
    "            row = row[0]\n",
    "        for each_tuple in row:\n",
    "            std_polygon_.append((each_tuple[0],each_tuple[1]))\n",
    "#             new_structure_json['arcs'].append([each_tuple[0],each_tuple[1]])\n",
    "    from shapely.geometry import Polygon\n",
    "    polygon_ = Polygon(std_polygon_)\n",
    "    \n",
    "    new_structure.append([id_, name_, polygon_])"
   ]
  },
  {
   "cell_type": "code",
   "execution_count": 37,
   "metadata": {},
   "outputs": [],
   "source": [
    "new_structure = pd.DataFrame(new_structure)\n",
    "new_structure.columns= ['id','name','geometry']\n",
    "new_structure[\"type\"] = \"Polygon\""
   ]
  },
  {
   "cell_type": "code",
   "execution_count": 38,
   "metadata": {},
   "outputs": [
    {
     "data": {
      "text/html": [
       "<div>\n",
       "<style scoped>\n",
       "    .dataframe tbody tr th:only-of-type {\n",
       "        vertical-align: middle;\n",
       "    }\n",
       "\n",
       "    .dataframe tbody tr th {\n",
       "        vertical-align: top;\n",
       "    }\n",
       "\n",
       "    .dataframe thead th {\n",
       "        text-align: right;\n",
       "    }\n",
       "</style>\n",
       "<table border=\"1\" class=\"dataframe\">\n",
       "  <thead>\n",
       "    <tr style=\"text-align: right;\">\n",
       "      <th></th>\n",
       "      <th>id</th>\n",
       "      <th>name</th>\n",
       "      <th>geometry</th>\n",
       "      <th>type</th>\n",
       "    </tr>\n",
       "  </thead>\n",
       "  <tbody>\n",
       "    <tr>\n",
       "      <th>0</th>\n",
       "      <td>02</td>\n",
       "      <td>Aisne</td>\n",
       "      <td>POLYGON ((3.17270 50.01200, 3.18220 50.01234, ...</td>\n",
       "      <td>Polygon</td>\n",
       "    </tr>\n",
       "    <tr>\n",
       "      <th>1</th>\n",
       "      <td>10</td>\n",
       "      <td>Aube</td>\n",
       "      <td>POLYGON ((3.41479 48.39027, 3.42208 48.41334, ...</td>\n",
       "      <td>Polygon</td>\n",
       "    </tr>\n",
       "    <tr>\n",
       "      <th>2</th>\n",
       "      <td>14</td>\n",
       "      <td>Calvados</td>\n",
       "      <td>POLYGON ((-1.11962 49.35557, -1.11503 49.36240...</td>\n",
       "      <td>Polygon</td>\n",
       "    </tr>\n",
       "    <tr>\n",
       "      <th>3</th>\n",
       "      <td>15</td>\n",
       "      <td>Cantal</td>\n",
       "      <td>POLYGON ((2.50841 45.47850, 2.52444 45.48070, ...</td>\n",
       "      <td>Polygon</td>\n",
       "    </tr>\n",
       "    <tr>\n",
       "      <th>4</th>\n",
       "      <td>28</td>\n",
       "      <td>Eure-et-Loir</td>\n",
       "      <td>POLYGON ((0.81482 48.67016, 0.82767 48.68072, ...</td>\n",
       "      <td>Polygon</td>\n",
       "    </tr>\n",
       "  </tbody>\n",
       "</table>\n",
       "</div>"
      ],
      "text/plain": [
       "   id          name                                           geometry  \\\n",
       "0  02         Aisne  POLYGON ((3.17270 50.01200, 3.18220 50.01234, ...   \n",
       "1  10          Aube  POLYGON ((3.41479 48.39027, 3.42208 48.41334, ...   \n",
       "2  14      Calvados  POLYGON ((-1.11962 49.35557, -1.11503 49.36240...   \n",
       "3  15        Cantal  POLYGON ((2.50841 45.47850, 2.52444 45.48070, ...   \n",
       "4  28  Eure-et-Loir  POLYGON ((0.81482 48.67016, 0.82767 48.68072, ...   \n",
       "\n",
       "      type  \n",
       "0  Polygon  \n",
       "1  Polygon  \n",
       "2  Polygon  \n",
       "3  Polygon  \n",
       "4  Polygon  "
      ]
     },
     "execution_count": 38,
     "metadata": {},
     "output_type": "execute_result"
    }
   ],
   "source": [
    "import geopandas as gpd\n",
    "new_structure = gpd.GeoDataFrame(new_structure, crs=\"EPSG:4326\" )\n",
    "new_structure.head()"
   ]
  },
  {
   "cell_type": "code",
   "execution_count": 41,
   "metadata": {},
   "outputs": [
    {
     "name": "stderr",
     "output_type": "stream",
     "text": [
      "/Users/mgmmacedo/opt/anaconda3/lib/python3.8/site-packages/descartes/patch.py:62: ShapelyDeprecationWarning: The array interface is deprecated and will no longer work in Shapely 2.0. Convert the '.coords' to a numpy array instead.\n",
      "  vertices = concatenate([\n"
     ]
    },
    {
     "data": {
      "text/plain": [
       "<AxesSubplot:>"
      ]
     },
     "execution_count": 41,
     "metadata": {},
     "output_type": "execute_result"
    },
    {
     "data": {
      "image/png": "[encoded data removed]",
      "text/plain": [
       "<Figure size 432x288 with 1 Axes>"
      ]
     },
     "metadata": {
      "needs_background": "light"
     },
     "output_type": "display_data"
    }
   ],
   "source": [
    "new_structure.plot()"
   ]
  },
  {
   "cell_type": "code",
   "execution_count": 43,
   "metadata": {},
   "outputs": [],
   "source": [
    "import topojson as tp\n",
    "\n",
    "topo = tp.Topology(new_structure)\n",
    "topo.to_json('france_dept.topo.json')"
   ]
  }
 ],
 "metadata": {
  "kernelspec": {
   "display_name": "twoenv",
   "language": "python",
   "name": "twoenv"
  },
  "language_info": {
   "codemirror_mode": {
    "name": "ipython",
    "version": 3
   },
   "file_extension": ".py",
   "mimetype": "text/x-python",
   "name": "python",
   "nbconvert_exporter": "python",
   "pygments_lexer": "ipython3",
   "version": "3.8.5"
  }
 },
 "nbformat": 4,
 "nbformat_minor": 4
}
