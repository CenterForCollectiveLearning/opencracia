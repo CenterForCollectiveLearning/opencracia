{
 "cells": [
  {
   "cell_type": "code",
   "execution_count": null,
   "metadata": {},
   "outputs": [],
   "source": [
    "from itertools import combinations\n",
    "import pandas as pd\n",
    "from random import random"
   ]
  },
  {
   "cell_type": "code",
   "execution_count": null,
   "metadata": {},
   "outputs": [],
   "source": [
    "df = pd.DataFrame()\n",
    "df[\"id\"] = range(1, 120 + 1)\n",
    "df[\"value\"] = df.apply(lambda x: random(), axis=1)"
   ]
  },
  {
   "cell_type": "code",
   "execution_count": null,
   "metadata": {},
   "outputs": [],
   "source": [
    "df = df.sort_values(\"value\", ascending=False)\n",
    "df[\"rank\"] = range(1, 120 + 1)"
   ]
  },
  {
   "cell_type": "code",
   "execution_count": null,
   "metadata": {},
   "outputs": [],
   "source": [
    "def win_rate(df):\n",
    "    dd = df.groupby([\"option_source\", \"option_target\"]).agg({\"id\": \"count\"}).reset_index()\n",
    "    m = dd.pivot(index=\"option_source\", columns=\"option_target\", values=\"id\").fillna(0)\n",
    "    ids = set(df[\"option_source\"]) | set(df[\"option_target\"])\n",
    "    m = m.reindex(ids)\n",
    "    m = m.reindex(ids, axis=1)\n",
    "    m = m.fillna(0)\n",
    "\n",
    "    r = m + m.T\n",
    "    win_rate = m.sum() / r.sum()\n",
    "\n",
    "    r1 = pd.DataFrame(win_rate).reset_index().rename(columns={\"option_target\": \"id\", 0: \"value\"})\n",
    "    r1 = r1.sort_values(\"value\", ascending=False)\n",
    "    r1[\"rank\"] = range(1, r1.shape[0] + 1)\n",
    "\n",
    "    return r1"
   ]
  },
  {
   "cell_type": "code",
   "execution_count": null,
   "metadata": {},
   "outputs": [],
   "source": [
    "df1 = pd.DataFrame(list(combinations(list(df[\"id\"]), 2)), columns=[\"option_target\", \"option_source\"])\n",
    "df1[\"id\"] = 1"
   ]
  },
  {
   "cell_type": "code",
   "execution_count": null,
   "metadata": {},
   "outputs": [],
   "source": [
    "r1 = win_rate(df1)\n",
    "r1"
   ]
  },
  {
   "cell_type": "code",
   "execution_count": null,
   "metadata": {},
   "outputs": [],
   "source": [
    "from scipy import stats"
   ]
  },
  {
   "cell_type": "code",
   "execution_count": null,
   "metadata": {},
   "outputs": [],
   "source": [
    "output = []\n",
    "# int(120*119/2)\n",
    "for it in range(100):\n",
    "    for i in range(20, 2000):\n",
    "        r2 = win_rate(df1.sample(i))\n",
    "        r3 = pd.merge(r1, r2, on=\"id\")\n",
    "        tau, p_value = stats.kendalltau(r3[\"rank_x\"], r3[\"rank_y\"])\n",
    "        output.append({\"corr\": tau, \"pair\": i, \"iteration\": it})"
   ]
  },
  {
   "cell_type": "code",
   "execution_count": null,
   "metadata": {},
   "outputs": [],
   "source": [
    "import seaborn as sns"
   ]
  },
  {
   "cell_type": "code",
   "execution_count": null,
   "metadata": {},
   "outputs": [],
   "source": [
    "sns.lineplot(x=\"pair\", y=\"corr\", data=pd.DataFrame(output))"
   ]
  },
  {
   "cell_type": "code",
   "execution_count": null,
   "metadata": {},
   "outputs": [],
   "source": [
    "combinations()"
   ]
  }
 ],
 "metadata": {
  "kernelspec": {
   "display_name": "Python 3",
   "language": "python",
   "name": "python3"
  },
  "language_info": {
   "codemirror_mode": {
    "name": "ipython",
    "version": 3
   },
   "file_extension": ".py",
   "mimetype": "text/x-python",
   "name": "python",
   "nbconvert_exporter": "python",
   "pygments_lexer": "ipython3",
   "version": "3.7.4"
  }
 },
 "nbformat": 4,
 "nbformat_minor": 2
}
