{
 "cells": [
  {
   "cell_type": "code",
   "execution_count": 1,
   "metadata": {},
   "outputs": [],
   "source": [
    "import json\n",
    "import pandas as pd"
   ]
  },
  {
   "cell_type": "code",
   "execution_count": 2,
   "metadata": {},
   "outputs": [],
   "source": [
    "df = pd.read_csv(\"https://docs.google.com/spreadsheets/d/e/2PACX-1vRjML7Ou7_QeBZ0y2A6sa56LV4m0L-JCY553JwIBbkKAZGxDqq-xr4Q0MxoA4hmK2FtxIAS-otGtmXe/pub?output=tsv\", delimiter=\"\\t\")\n",
    "df.head()\n",
    "\n",
    "def generate_file(lang = \"en\", default_lang = \"en\"):\n",
    "    d = {}\n",
    "\n",
    "    for i, row in df.iterrows():\n",
    "        itm, sitm = row[\"key\"].split(\".\")\n",
    "        if itm not in d:\n",
    "            d[itm] = {}\n",
    "            \n",
    "        d[itm][sitm] = row[default_lang] if pd.isnull(row[lang]) else row[lang]\n",
    "        \n",
    "    return d\n",
    "\n",
    "for lang in [\"fr\", \"es\", \"en\"]:\n",
    "    with open(f\"../locales/{lang}/translation.json\", \"w\") as fp:\n",
    "        json.dump(generate_file(lang, \"fr\"), fp)"
   ]
  },
  {
   "cell_type": "code",
   "execution_count": 3,
   "metadata": {},
   "outputs": [
    {
     "data": {
      "text/plain": [
       "0     75\n",
       "1     81\n",
       "2     66\n",
       "3     98\n",
       "4     64\n",
       "5     20\n",
       "6     20\n",
       "7     20\n",
       "8     20\n",
       "9     20\n",
       "10    20\n",
       "11    20\n",
       "12    20\n",
       "13    20\n",
       "Name: proposal_id, dtype: int32"
      ]
     },
     "execution_count": 3,
     "metadata": {},
     "output_type": "execute_result"
    }
   ],
   "source": [
    "import pandas as pd\n",
    "filename_prop_cand = \"https://docs.google.com/spreadsheets/d/e/2PACX-1vQ4gIavqKNazbpM6YhZJsnPeGdQt_SOgCrPirNLiULSp18MjTL4AlttpCc8Tjb9OPpynb6X4dbac4_o/pub?gid=1505112015&single=true&output=tsv\"\n",
    "proposals = pd.read_csv(filename_prop_cand, delimiter=\"\\t\")\n",
    "proposals = proposals['proposal_id'].astype(int)\n",
    "proposals\n"
   ]
  },
  {
   "cell_type": "markdown",
   "metadata": {},
   "source": []
  },
  {
   "cell_type": "code",
   "execution_count": 4,
   "metadata": {},
   "outputs": [
    {
     "name": "stdout",
     "output_type": "stream",
     "text": [
      "Python 3.9.4\n"
     ]
    }
   ],
   "source": [
    "!python --version"
   ]
  },
  {
   "cell_type": "code",
   "execution_count": null,
   "metadata": {},
   "outputs": [],
   "source": []
  }
 ],
 "metadata": {
  "kernelspec": {
   "display_name": "Python 3.9.4 64-bit",
   "language": "python",
   "name": "python3"
  },
  "language_info": {
   "codemirror_mode": {
    "name": "ipython",
    "version": 3
   },
   "file_extension": ".py",
   "mimetype": "text/x-python",
   "name": "python",
   "nbconvert_exporter": "python",
   "pygments_lexer": "ipython3",
   "version": "3.9.4"
  },
  "vscode": {
   "interpreter": {
    "hash": "81794d4967e6c3204c66dcd87b604927b115b27c00565d3d43f05ba2f3a2cb0d"
   }
  }
 },
 "nbformat": 4,
 "nbformat_minor": 2
}
