{
 "cells": [
  {
   "cell_type": "code",
   "execution_count": 1,
   "metadata": {},
   "outputs": [],
   "source": [
    "import pandas as pd\n",
    "\n",
    "candidates =  {\n",
    "  \"Emmanuel Macron\" : 1,\n",
    "  \"Eric Zemmour\" : 2,\n",
    "  \"Nicolas Dupont-Aignan\" : 3,\n",
    "  \"Valérie Pécresse\" : 4,\n",
    "  \"Marine Le Pen\" : 5,\n",
    "  \"Anne Hidalgo\" : 6,\n",
    "  \"Yannick Jadot\" : 7,\n",
    "  \"Jean-Luc Mélenchon\" : 8,\n",
    "  \"Fabien Roussel\" : 9,\n",
    "  \"Philippe Poutou\" : 10,\n",
    "  \"Nathalie Arthaud\" : 11,\n",
    "  \"Jean Lassalle\" : 12\n",
    "}\n",
    "\n",
    "\n",
    "alternatives = pd.read_csv(\"https://docs.google.com/spreadsheets/d/e/2PACX-1vQ4gIavqKNazbpM6YhZJsnPeGdQt_SOgCrPirNLiULSp18MjTL4AlttpCc8Tjb9OPpynb6X4dbac4_o/pub?gid=728301457&single=true&output=tsv\", delimiter=\"\\t\")\n",
    "alternatives.rename(columns={'Unnamed: 0':'proposal_id'}, inplace=True)\n",
    "alternatives.drop(columns=alternatives.columns[alternatives.columns.str.contains('Unnamed')], inplace=True)\n",
    "alternatives = alternatives.iloc[1: , :]\n",
    "alternatives = alternatives[alternatives.sum(axis=1)>2]\n",
    "alternatives.rename(columns=candidates, inplace=True)\n",
    "for each_cand in range(1,13):\n",
    "    alternatives[each_cand] = alternatives[each_cand]*each_cand\n",
    "\n",
    "# alternatives.set_index(\"proposal_id\")\n",
    "alternatives[\"candidate_ids\"] = alternatives.apply(lambda x : [x[c] for c in range(1,13) if x[c]!= 0], axis=1)\n",
    "alternatives.drop(columns=range(1,13), inplace=True)\n",
    "# alternatives.to_csv(\"gameOptions.csv\", index=False)"
   ]
  },
  {
   "cell_type": "code",
   "execution_count": 4,
   "metadata": {},
   "outputs": [
    {
     "data": {
      "text/html": [
       "<div>\n",
       "<style scoped>\n",
       "    .dataframe tbody tr th:only-of-type {\n",
       "        vertical-align: middle;\n",
       "    }\n",
       "\n",
       "    .dataframe tbody tr th {\n",
       "        vertical-align: top;\n",
       "    }\n",
       "\n",
       "    .dataframe thead th {\n",
       "        text-align: right;\n",
       "    }\n",
       "</style>\n",
       "<table border=\"1\" class=\"dataframe\">\n",
       "  <thead>\n",
       "    <tr style=\"text-align: right;\">\n",
       "      <th></th>\n",
       "      <th>proposal_id</th>\n",
       "      <th>candidate_ids</th>\n",
       "    </tr>\n",
       "  </thead>\n",
       "  <tbody>\n",
       "    <tr>\n",
       "      <th>1</th>\n",
       "      <td>1</td>\n",
       "      <td>[3.0, 4.0, 5.0, 6.0, 7.0, 9.0, 10.0, 12.0]</td>\n",
       "    </tr>\n",
       "    <tr>\n",
       "      <th>11</th>\n",
       "      <td>11</td>\n",
       "      <td>[1.0, 3.0, 5.0, 6.0, 7.0, 8.0, 9.0, 12.0]</td>\n",
       "    </tr>\n",
       "    <tr>\n",
       "      <th>12</th>\n",
       "      <td>12</td>\n",
       "      <td>[2.0, 3.0, 6.0, 7.0, 8.0]</td>\n",
       "    </tr>\n",
       "    <tr>\n",
       "      <th>13</th>\n",
       "      <td>13</td>\n",
       "      <td>[1.0, 2.0, 3.0, 4.0, 5.0, 8.0]</td>\n",
       "    </tr>\n",
       "    <tr>\n",
       "      <th>17</th>\n",
       "      <td>17</td>\n",
       "      <td>[4.0, 5.0, 6.0, 7.0, 8.0]</td>\n",
       "    </tr>\n",
       "  </tbody>\n",
       "</table>\n",
       "</div>"
      ],
      "text/plain": [
       "   proposal_id                               candidate_ids\n",
       "1            1  [3.0, 4.0, 5.0, 6.0, 7.0, 9.0, 10.0, 12.0]\n",
       "11          11   [1.0, 3.0, 5.0, 6.0, 7.0, 8.0, 9.0, 12.0]\n",
       "12          12                   [2.0, 3.0, 6.0, 7.0, 8.0]\n",
       "13          13              [1.0, 2.0, 3.0, 4.0, 5.0, 8.0]\n",
       "17          17                   [4.0, 5.0, 6.0, 7.0, 8.0]"
      ]
     },
     "execution_count": 4,
     "metadata": {},
     "output_type": "execute_result"
    }
   ],
   "source": [
    "alternatives[~alternatives['proposal_id'].isin([])].head()"
   ]
  },
  {
   "cell_type": "code",
   "execution_count": null,
   "metadata": {},
   "outputs": [],
   "source": []
  }
 ],
 "metadata": {
  "kernelspec": {
   "display_name": "Python 3.10.7 64-bit",
   "language": "python",
   "name": "python3"
  },
  "language_info": {
   "codemirror_mode": {
    "name": "ipython",
    "version": 3
   },
   "file_extension": ".py",
   "mimetype": "text/x-python",
   "name": "python",
   "nbconvert_exporter": "python",
   "pygments_lexer": "ipython3",
   "version": "3.10.7"
  },
  "orig_nbformat": 4,
  "vscode": {
   "interpreter": {
    "hash": "b0fa6594d8f4cbf19f97940f81e996739fb7646882a419484c72d19e05852a7e"
   }
  }
 },
 "nbformat": 4,
 "nbformat_minor": 2
}
